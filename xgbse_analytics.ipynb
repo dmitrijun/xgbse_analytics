{
 "cells": [
  {
   "cell_type": "markdown",
   "metadata": {
    "id": "_y9HzrEo3ZTi"
   },
   "source": [
    "# Курсач"
   ]
  },
  {
   "cell_type": "markdown",
   "metadata": {
    "id": "r9ONV-8Z4ppC"
   },
   "source": [
    "## Чтение данных"
   ]
  },
  {
   "cell_type": "code",
   "execution_count": 1,
   "metadata": {
    "id": "WNaFkygh4swp"
   },
   "outputs": [],
   "source": [
    "import pandas as pd"
   ]
  },
  {
   "cell_type": "code",
   "execution_count": 2,
   "metadata": {
    "colab": {
     "base_uri": "https://localhost:8080/",
     "height": 2268
    },
    "id": "Wdtna-Rz4xiD",
    "outputId": "6b40dfdf-02a3-4d5f-8a80-af3bd0f3f323"
   },
   "outputs": [
    {
     "data": {
      "text/html": [
       "<div>\n",
       "<style scoped>\n",
       "    .dataframe tbody tr th:only-of-type {\n",
       "        vertical-align: middle;\n",
       "    }\n",
       "\n",
       "    .dataframe tbody tr th {\n",
       "        vertical-align: top;\n",
       "    }\n",
       "\n",
       "    .dataframe thead th {\n",
       "        text-align: right;\n",
       "    }\n",
       "</style>\n",
       "<table border=\"1\" class=\"dataframe\">\n",
       "  <thead>\n",
       "    <tr style=\"text-align: right;\">\n",
       "      <th></th>\n",
       "      <th>0</th>\n",
       "      <th>1</th>\n",
       "      <th>2</th>\n",
       "      <th>3</th>\n",
       "      <th>4</th>\n",
       "    </tr>\n",
       "  </thead>\n",
       "  <tbody>\n",
       "    <tr>\n",
       "      <th>id</th>\n",
       "      <td>60803017</td>\n",
       "      <td>68599414</td>\n",
       "      <td>15500352</td>\n",
       "      <td>119362175</td>\n",
       "      <td>72133872</td>\n",
       "    </tr>\n",
       "    <tr>\n",
       "      <th>member_id</th>\n",
       "      <td>NaN</td>\n",
       "      <td>NaN</td>\n",
       "      <td>NaN</td>\n",
       "      <td>NaN</td>\n",
       "      <td>NaN</td>\n",
       "    </tr>\n",
       "    <tr>\n",
       "      <th>loan_amnt</th>\n",
       "      <td>12000.0</td>\n",
       "      <td>9000.0</td>\n",
       "      <td>24000.0</td>\n",
       "      <td>13000.0</td>\n",
       "      <td>2800.0</td>\n",
       "    </tr>\n",
       "    <tr>\n",
       "      <th>funded_amnt</th>\n",
       "      <td>12000.0</td>\n",
       "      <td>9000.0</td>\n",
       "      <td>24000.0</td>\n",
       "      <td>13000.0</td>\n",
       "      <td>2800.0</td>\n",
       "    </tr>\n",
       "    <tr>\n",
       "      <th>funded_amnt_inv</th>\n",
       "      <td>12000.0</td>\n",
       "      <td>9000.0</td>\n",
       "      <td>24000.0</td>\n",
       "      <td>13000.0</td>\n",
       "      <td>2800.0</td>\n",
       "    </tr>\n",
       "    <tr>\n",
       "      <th>...</th>\n",
       "      <td>...</td>\n",
       "      <td>...</td>\n",
       "      <td>...</td>\n",
       "      <td>...</td>\n",
       "      <td>...</td>\n",
       "    </tr>\n",
       "    <tr>\n",
       "      <th>settlement_status</th>\n",
       "      <td>NaN</td>\n",
       "      <td>NaN</td>\n",
       "      <td>NaN</td>\n",
       "      <td>NaN</td>\n",
       "      <td>NaN</td>\n",
       "    </tr>\n",
       "    <tr>\n",
       "      <th>settlement_date</th>\n",
       "      <td>NaN</td>\n",
       "      <td>NaN</td>\n",
       "      <td>NaN</td>\n",
       "      <td>NaN</td>\n",
       "      <td>NaN</td>\n",
       "    </tr>\n",
       "    <tr>\n",
       "      <th>settlement_amount</th>\n",
       "      <td>NaN</td>\n",
       "      <td>NaN</td>\n",
       "      <td>NaN</td>\n",
       "      <td>NaN</td>\n",
       "      <td>NaN</td>\n",
       "    </tr>\n",
       "    <tr>\n",
       "      <th>settlement_percentage</th>\n",
       "      <td>NaN</td>\n",
       "      <td>NaN</td>\n",
       "      <td>NaN</td>\n",
       "      <td>NaN</td>\n",
       "      <td>NaN</td>\n",
       "    </tr>\n",
       "    <tr>\n",
       "      <th>settlement_term</th>\n",
       "      <td>NaN</td>\n",
       "      <td>NaN</td>\n",
       "      <td>NaN</td>\n",
       "      <td>NaN</td>\n",
       "      <td>NaN</td>\n",
       "    </tr>\n",
       "  </tbody>\n",
       "</table>\n",
       "<p>151 rows × 5 columns</p>\n",
       "</div>"
      ],
      "text/plain": [
       "                              0         1         2          3         4\n",
       "id                     60803017  68599414  15500352  119362175  72133872\n",
       "member_id                   NaN       NaN       NaN        NaN       NaN\n",
       "loan_amnt               12000.0    9000.0   24000.0    13000.0    2800.0\n",
       "funded_amnt             12000.0    9000.0   24000.0    13000.0    2800.0\n",
       "funded_amnt_inv         12000.0    9000.0   24000.0    13000.0    2800.0\n",
       "...                         ...       ...       ...        ...       ...\n",
       "settlement_status           NaN       NaN       NaN        NaN       NaN\n",
       "settlement_date             NaN       NaN       NaN        NaN       NaN\n",
       "settlement_amount           NaN       NaN       NaN        NaN       NaN\n",
       "settlement_percentage       NaN       NaN       NaN        NaN       NaN\n",
       "settlement_term             NaN       NaN       NaN        NaN       NaN\n",
       "\n",
       "[151 rows x 5 columns]"
      ]
     },
     "execution_count": 2,
     "metadata": {},
     "output_type": "execute_result"
    }
   ],
   "source": [
    "accepted = pd.read_csv('./lending_data/small_accepted.csv', low_memory=False)\n",
    "accepted.head().transpose()"
   ]
  },
  {
   "cell_type": "code",
   "execution_count": 3,
   "metadata": {},
   "outputs": [
    {
     "name": "stdout",
     "output_type": "stream",
     "text": [
      "- id\n",
      "- member_id\n",
      "- loan_amnt\n",
      "- funded_amnt\n",
      "- funded_amnt_inv\n",
      "- term\n",
      "- int_rate\n",
      "- installment\n",
      "- grade\n",
      "- sub_grade\n",
      "- emp_title\n",
      "- emp_length\n",
      "- home_ownership\n",
      "- annual_inc\n",
      "- verification_status\n",
      "- issue_d\n",
      "- loan_status\n",
      "- pymnt_plan\n",
      "- url\n",
      "- desc\n",
      "- purpose\n",
      "- title\n",
      "- zip_code\n",
      "- addr_state\n",
      "- dti\n",
      "- delinq_2yrs\n",
      "- earliest_cr_line\n",
      "- fico_range_low\n",
      "- fico_range_high\n",
      "- inq_last_6mths\n",
      "- mths_since_last_delinq\n",
      "- mths_since_last_record\n",
      "- open_acc\n",
      "- pub_rec\n",
      "- revol_bal\n",
      "- revol_util\n",
      "- total_acc\n",
      "- initial_list_status\n",
      "- out_prncp\n",
      "- out_prncp_inv\n",
      "- total_pymnt\n",
      "- total_pymnt_inv\n",
      "- total_rec_prncp\n",
      "- total_rec_int\n",
      "- total_rec_late_fee\n",
      "- recoveries\n",
      "- collection_recovery_fee\n",
      "- last_pymnt_d\n",
      "- last_pymnt_amnt\n",
      "- next_pymnt_d\n",
      "- last_credit_pull_d\n",
      "- last_fico_range_high\n",
      "- last_fico_range_low\n",
      "- collections_12_mths_ex_med\n",
      "- mths_since_last_major_derog\n",
      "- policy_code\n",
      "- application_type\n",
      "- annual_inc_joint\n",
      "- dti_joint\n",
      "- verification_status_joint\n",
      "- acc_now_delinq\n",
      "- tot_coll_amt\n",
      "- tot_cur_bal\n",
      "- open_acc_6m\n",
      "- open_act_il\n",
      "- open_il_12m\n",
      "- open_il_24m\n",
      "- mths_since_rcnt_il\n",
      "- total_bal_il\n",
      "- il_util\n",
      "- open_rv_12m\n",
      "- open_rv_24m\n",
      "- max_bal_bc\n",
      "- all_util\n",
      "- total_rev_hi_lim\n",
      "- inq_fi\n",
      "- total_cu_tl\n",
      "- inq_last_12m\n",
      "- acc_open_past_24mths\n",
      "- avg_cur_bal\n",
      "- bc_open_to_buy\n",
      "- bc_util\n",
      "- chargeoff_within_12_mths\n",
      "- delinq_amnt\n",
      "- mo_sin_old_il_acct\n",
      "- mo_sin_old_rev_tl_op\n",
      "- mo_sin_rcnt_rev_tl_op\n",
      "- mo_sin_rcnt_tl\n",
      "- mort_acc\n",
      "- mths_since_recent_bc\n",
      "- mths_since_recent_bc_dlq\n",
      "- mths_since_recent_inq\n",
      "- mths_since_recent_revol_delinq\n",
      "- num_accts_ever_120_pd\n",
      "- num_actv_bc_tl\n",
      "- num_actv_rev_tl\n",
      "- num_bc_sats\n",
      "- num_bc_tl\n",
      "- num_il_tl\n",
      "- num_op_rev_tl\n",
      "- num_rev_accts\n",
      "- num_rev_tl_bal_gt_0\n",
      "- num_sats\n",
      "- num_tl_120dpd_2m\n",
      "- num_tl_30dpd\n",
      "- num_tl_90g_dpd_24m\n",
      "- num_tl_op_past_12m\n",
      "- pct_tl_nvr_dlq\n",
      "- percent_bc_gt_75\n",
      "- pub_rec_bankruptcies\n",
      "- tax_liens\n",
      "- tot_hi_cred_lim\n",
      "- total_bal_ex_mort\n",
      "- total_bc_limit\n",
      "- total_il_high_credit_limit\n",
      "- revol_bal_joint\n",
      "- sec_app_fico_range_low\n",
      "- sec_app_fico_range_high\n",
      "- sec_app_earliest_cr_line\n",
      "- sec_app_inq_last_6mths\n",
      "- sec_app_mort_acc\n",
      "- sec_app_open_acc\n",
      "- sec_app_revol_util\n",
      "- sec_app_open_act_il\n",
      "- sec_app_num_rev_accts\n",
      "- sec_app_chargeoff_within_12_mths\n",
      "- sec_app_collections_12_mths_ex_med\n",
      "- sec_app_mths_since_last_major_derog\n",
      "- hardship_flag\n",
      "- hardship_type\n",
      "- hardship_reason\n",
      "- hardship_status\n",
      "- deferral_term\n",
      "- hardship_amount\n",
      "- hardship_start_date\n",
      "- hardship_end_date\n",
      "- payment_plan_start_date\n",
      "- hardship_length\n",
      "- hardship_dpd\n",
      "- hardship_loan_status\n",
      "- orig_projected_additional_accrued_interest\n",
      "- hardship_payoff_balance_amount\n",
      "- hardship_last_payment_amount\n",
      "- disbursement_method\n",
      "- debt_settlement_flag\n",
      "- debt_settlement_flag_date\n",
      "- settlement_status\n",
      "- settlement_date\n",
      "- settlement_amount\n",
      "- settlement_percentage\n",
      "- settlement_term\n"
     ]
    }
   ],
   "source": [
    "for col in accepted.columns:\n",
    "    print(f'- {col}')\n"
   ]
  },
  {
   "cell_type": "markdown",
   "metadata": {
    "id": "hSFmM6SS6zDw"
   },
   "source": [
    "## Обработаем признаки"
   ]
  },
  {
   "cell_type": "markdown",
   "metadata": {
    "id": "rzyZWKEYn_ar"
   },
   "source": [
    "### Удалим колонки с уникальными идентификаторами"
   ]
  },
  {
   "cell_type": "markdown",
   "metadata": {},
   "source": [
    "- `id` - уникальный идентификатор кредита, для каждого платежа новый\n",
    "- `member_id` - уникальный идентификатор кредитора."
   ]
  },
  {
   "cell_type": "code",
   "execution_count": 5,
   "metadata": {
    "id": "x9NAr6VuoSHv"
   },
   "outputs": [],
   "source": [
    "unique_id_cols = [\n",
    "    'id',\n",
    "    'member_id'\n",
    "]\n",
    "accepted.drop(columns = unique_id_cols, inplace=True)"
   ]
  },
  {
   "cell_type": "markdown",
   "metadata": {
    "id": "sKrgxB8Wnxu6"
   },
   "source": [
    "### Выбросим все колонки, приводящие к утечке таргета"
   ]
  },
  {
   "cell_type": "markdown",
   "metadata": {},
   "source": [
    "- `funded_amnt` - Отражает информацию о выплаченной сумме у завершенных кредитов.\n",
    "- `funded_amnt_inv` - Отражает информацию о выплаченной сумме у завершенных кредитов, для части от инвесторов.\n",
    "- `out_prncp` - Отражает информацию о оставшейся к выплате суммы.\n",
    "- `out_prncp_inv`- Отражает информацию о оставшейся к выплате суммы, для части от инвесторов.\n",
    "- `total_pymnt` - Обьем уже полученных платежей.\n",
    "- `total_pymnt_inv` - Обьем уже полученных платежей, для части от инвесторов.\n",
    "- `total_rec_prncp` - \n",
    "- `total_rec_int` - Обьем выплаченных процентов по кредиту.\n",
    "- `total_rec_late_fee` - Обьем пени за просрочку по кредиту.\n",
    "- `recoveries` - \n",
    "- `collection_recovery_fee`\n",
    "- `last_pymnt_d`\n",
    "- `last_pymnt_amnt`"
   ]
  },
  {
   "cell_type": "code",
   "execution_count": null,
   "metadata": {
    "colab": {
     "base_uri": "https://localhost:8080/",
     "height": 423
    },
    "id": "YHhMAXeWBo7s",
    "outputId": "98fc58af-b75c-4048-cd9a-76ed486e7ccf"
   },
   "outputs": [],
   "source": [
    "leak_cols = [\n",
    "    'funded_amnt', # Leaks\n",
    "    'funded_amnt_inv', # Leaks\n",
    "    'out_prncp', # leaks\n",
    "    'out_prncp_inv', # leaks\n",
    "    'total_pymnt', # Leaks\n",
    "    'total_pymnt_inv', # Leaks\n",
    "    'total_rec_prncp', # Leaks\n",
    "    'total_rec_int', # Leaks\n",
    "    'total_rec_late_fee', # Leaks\n",
    "    'recoveries', # Leaks\n",
    "    'collection_recovery_fee', # Leaks\n",
    "    'last_pymnt_d', # Leaks\n",
    "    'last_pymnt_amnt' # Leaks\n",
    "]\n",
    "\n",
    "accepted.drop(columns = leak_cols, inplace=True)\n",
    "accepted.head().transpose()"
   ]
  },
  {
   "cell_type": "markdown",
   "metadata": {
    "id": "LyahxD7-n5SR"
   },
   "source": [
    "Выбросим все колонки, дублирующие данные"
   ]
  },
  {
   "cell_type": "code",
   "execution_count": null,
   "metadata": {
    "id": "FwLo1LN2ox0o"
   },
   "outputs": [],
   "source": [
    "redundand_cols = [\n",
    "    'sub_grade', # Redundand\n",
    "    'int_rate', # redundant \n",
    "    'zip_code', # redundant\n",
    "    'url',\n",
    "]\n",
    "accepted.drop(columns = redundand_cols, inplace=True)"
   ]
  },
  {
   "cell_type": "code",
   "execution_count": null,
   "metadata": {
    "id": "zkVjdLyPqlbf"
   },
   "outputs": [],
   "source": []
  }
 ],
 "metadata": {
  "colab": {
   "provenance": []
  },
  "kernelspec": {
   "display_name": "Python 3 (ipykernel)",
   "language": "python",
   "name": "python3"
  },
  "language_info": {
   "codemirror_mode": {
    "name": "ipython",
    "version": 3
   },
   "file_extension": ".py",
   "mimetype": "text/x-python",
   "name": "python",
   "nbconvert_exporter": "python",
   "pygments_lexer": "ipython3",
   "version": "3.9.15"
  }
 },
 "nbformat": 4,
 "nbformat_minor": 4
}
